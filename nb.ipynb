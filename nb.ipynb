{
 "cells": [
  {
   "cell_type": "code",
   "execution_count": 1,
   "metadata": {},
   "outputs": [],
   "source": [
    "import save"
   ]
  },
  {
   "cell_type": "code",
   "execution_count": 2,
   "metadata": {},
   "outputs": [],
   "source": [
    "se = save.SaveEditor(\"Avatar0_0.sav\")"
   ]
  },
  {
   "cell_type": "code",
   "execution_count": 3,
   "metadata": {},
   "outputs": [],
   "source": [
    "#all herbs id\n",
    "herbID = [6001,\n",
    "6002,\n",
    "6003,\n",
    "6004,\n",
    "6005,\n",
    "6006,\n",
    "6007,\n",
    "6101,\n",
    "6102,\n",
    "6103,\n",
    "6104,\n",
    "6105,\n",
    "6106,\n",
    "6107,\n",
    "6108,\n",
    "6109,\n",
    "6110,\n",
    "6111,\n",
    "6112,\n",
    "6113,\n",
    "6114,\n",
    "6115,\n",
    "6116,\n",
    "6117,\n",
    "6201,\n",
    "6202,\n",
    "6203,\n",
    "6204,\n",
    "6205,\n",
    "6206,\n",
    "6207,\n",
    "6208,\n",
    "6209,\n",
    "6210,\n",
    "6211,\n",
    "6212,\n",
    "6213,\n",
    "6214,\n",
    "6215,\n",
    "6216,\n",
    "6217,\n",
    "6218,\n",
    "6219,\n",
    "6220,\n",
    "6221,\n",
    "6222,\n",
    "6223,\n",
    "6224,\n",
    "6225,\n",
    "6226,\n",
    "6301,\n",
    "6302,\n",
    "6303,\n",
    "6304,\n",
    "6305,\n",
    "6306,\n",
    "6307,\n",
    "6308,\n",
    "6309,\n",
    "6310,\n",
    "6311,\n",
    "6312,\n",
    "6313,\n",
    "6314,\n",
    "6315,\n",
    "6316,\n",
    "6317,\n",
    "6318,\n",
    "6319,\n",
    "6320,\n",
    "6321,\n",
    "6322,\n",
    "6323,\n",
    "6324,\n",
    "6325,\n",
    "6401,\n",
    "6402,\n",
    "6403,\n",
    "6404,\n",
    "6405,\n",
    "6406,\n",
    "6407,\n",
    "6408,\n",
    "6409,\n",
    "6410,\n",
    "6411,\n",
    "6412,\n",
    "6413,\n",
    "6414,\n",
    "6415,\n",
    "6416,\n",
    "6417,\n",
    "6418,\n",
    "6419,\n",
    "6420,\n",
    "6421,\n",
    "6422,\n",
    "6423,\n",
    "6424,\n",
    "6425,\n",
    "6426,\n",
    "6427,\n",
    "6501,\n",
    "6502,\n",
    "6503,\n",
    "6504,\n",
    "6505,\n",
    "6506,\n",
    "6507,\n",
    "6508,\n",
    "6509,\n",
    "6510,\n",
    "6511,\n",
    "6512,\n",
    "6513,\n",
    "6514,\n",
    "]"
   ]
  },
  {
   "cell_type": "code",
   "execution_count": 4,
   "metadata": {},
   "outputs": [],
   "source": [
    "for i in herbID:\r\n",
    "    if i not in se.cur_item:\r\n",
    "        se.add_item(i)\r\n",
    "\r\n",
    "\r\n"
   ]
  },
  {
   "cell_type": "code",
   "execution_count": 5,
   "metadata": {},
   "outputs": [
    {
     "data": {
      "text/plain": "377"
     },
     "execution_count": 5,
     "metadata": {},
     "output_type": "execute_result"
    }
   ],
   "source": [
    "se.item_num"
   ]
  },
  {
   "cell_type": "code",
   "execution_count": 6,
   "metadata": {},
   "outputs": [
    {
     "data": {
      "text/plain": "377"
     },
     "execution_count": 6,
     "metadata": {},
     "output_type": "execute_result"
    }
   ],
   "source": [
    "se.data[\"Avatar0_0.itemList.Num\"]"
   ]
  },
  {
   "cell_type": "code",
   "execution_count": 7,
   "metadata": {},
   "outputs": [],
   "source": [
    "se.output(\"Avatar0_0_test1.sav\")"
   ]
  },
  {
   "cell_type": "code",
   "execution_count": 33,
   "metadata": {},
   "outputs": [
    {
     "data": {
      "text/plain": "377"
     },
     "execution_count": 33,
     "metadata": {},
     "output_type": "execute_result"
    }
   ],
   "source": [
    "se.item_num"
   ]
  }
 ],
 "metadata": {
  "kernelspec": {
   "display_name": "Python 3.9.10 64-bit",
   "name": "python3910jvsc74a57bd0c1dd4801cf488d85fa5cfdd0c327efbb883be3ef991305bd18725a7286663100"
  },
  "language_info": {
   "codemirror_mode": {
    "name": "ipython",
    "version": 3
   },
   "file_extension": ".py",
   "mimetype": "text/x-python",
   "name": "python",
   "nbconvert_exporter": "python",
   "pygments_lexer": "ipython3",
   "version": "3.9.10"
  },
  "metadata": {
   "interpreter": {
    "hash": "c1dd4801cf488d85fa5cfdd0c327efbb883be3ef991305bd18725a7286663100"
   }
  },
  "orig_nbformat": 2
 },
 "nbformat": 4,
 "nbformat_minor": 2
}